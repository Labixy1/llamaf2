{
 "cells": [
  {
   "cell_type": "code",
   "execution_count": null,
   "id": "33396f77-a764-406c-abb4-57eed35f71c6",
   "metadata": {},
   "outputs": [],
   "source": [
    "https://github.com/Decripto-org/Blockchain-Glossary"
   ]
  },
  {
   "metadata": {
    "ExecuteTime": {
     "end_time": "2024-12-19T02:53:26.998491Z",
     "start_time": "2024-12-19T02:53:25.140351Z"
    }
   },
   "cell_type": "code",
   "source": [
    "# 获取小说书名和作者\n",
    "import requests\n",
    "from lxml import etree\n",
    "import time\n",
    "\n",
    "url = 'https://github.com/Decripto-org/Blockchain-Glossary'\n",
    "headers = {\n",
    "    'user-agent':'Mozilla/5.0 (Windows NT 10.0; Win64; x64) AppleWebKit/537.36 (KHTML, like Gecko) Chrome/131.0.0.0 Safari/537.36'\n",
    "}\n",
    "response = requests.get(url,headers=headers)\n",
    "# print(response.status_code,response.text)\n",
    "\n",
    "e=etree.HTML(response.text)\n",
    "words=e.xpath(\"//article[@class='markdown-body entry-content container-lg']/div[@class='markdown-heading']/h3[@class='heading-element']/text()\")\n",
    "print(words)"
   ],
   "id": "a253c602276659bd",
   "outputs": [
    {
     "name": "stdout",
     "output_type": "stream",
     "text": [
      "['Account Abstraction', 'AES (Advanced Encryption Standard)', 'Airdrop', 'Algorithm', 'Alpha Release', 'Altcoin', 'AMA (Ask Me Anything)', 'AMLD5 (Anti-Money Laundering Directive 5)', 'Angel Investor', 'Arbitrage', 'ATH (All-Time High)', 'ATL (All-Time Low)', 'API (Application Programming Interface)', 'APR (Annual Percentage Rate)', 'APY (Annual Percentage Yield)', 'Asymmetric Encryption', 'Atomic Swap', 'Audit', 'Auditor', 'Automated Market Maker (AMM)', 'Bag', 'Bag Holder', 'Bail-In', 'Bail-Out', 'Banking as a Service (BaaS)', 'Bank Run', 'Bear Market', 'Bear Trap', 'BEP-20 Token Standard', 'BEP-721 Token Standard', 'Beta Release', 'Black Hat', 'Blockchain', 'Blockchain Transmission Protocol', 'Blockchain Trilemma', 'BLS Signature', 'Borrowing', 'BPS (Basis Points)', 'Brute Force Attack', 'Bug Bounty', 'Bull Market', 'Bull Trap', 'Burning', 'Byzantine Fault Tolerance', 'CBDC (Central Bank Digital Currency)', 'CDO (Chief Data Officer)', 'CEO (Chief Executive Officer)', 'CEX (Centralized Exchange)', 'CFO (Chief Financial Officer)', 'Cloud Mining', 'Cold Wallet', 'Collateral', 'Composable Token', 'Consensus', 'COO (Chief Operating Officer)', 'Cross-Chain', 'Cryptocurrency', 'CTO (Chief Technology Officer)', 'Custodial', 'DAO (Decentralized Autonomous Organization)', 'dApp (Decentralized Application)', 'Decentralization', 'DeFi (Decentralized Finance)', 'Deflation', 'Delegated Proof of Stake (DPoS)', 'Delegator', 'DDoS Attack (Distributed Denial of Service Attack)', 'DEX (Decentralized Exchange)', 'Difficulty', 'Dip', 'Distributed Ledger', 'Distributed Ledger Technology', 'Dominance', 'DoS Attack (Denial of Service Attack)', 'Double Spending', 'Dump', 'DYOR (Do Your Own Research)', 'EIP-1559', 'Exploit', 'Explorer', 'ERC-20 Token Standard', 'ERC-223', 'ERC-721 Token Standard', 'ERC-777', 'ERC-827', 'ERC-884', 'ERC-948', 'ERC-1155 Token Standard', 'FATF (Financial Action Task Force)', 'Faucet', 'Federated Blockchain', 'Fiat Currency', 'Flash Loan', 'FOMO (Fear Of Missing Out)', 'Fork', 'FUD', 'Full Node', 'Future and Spot', 'Gas Fee', 'Gas Limit', 'Governance', 'Gwei', 'Halving', 'Hard Fork', 'Hardware Wallet', 'Hash', 'Hash Power', 'Hash Rate', 'Holder', 'Honeypot', 'Hot Wallet', 'Hyperledger', 'ICO (Initial Coin Offering)', 'IDO (Initial DEX Offering)', 'IEO (Initial Exchange Offering)', 'IFO (Initial Farm Offering)', 'Inflation', 'IoT (Internet of Things)', 'IP Address (Internet Protocol Address)', 'IPFS (InterPlanetary File System)', 'IPO (Initial Public Offering)', 'ITO (Initial Token Offering)', 'KYA (Know Your Asset)', 'KYC (Know Your Customer)', 'KYT (Know Your Transaction)', 'Layer 1', 'Layer 2', 'Lending', 'libp2p', 'Light Paper', 'Liquidity', 'Liquidity Pool', 'Liquidity Provider', 'Mainnet', 'Market Cap', 'Market Makers', 'Masternode', 'Mempool', 'MEV (Miner Extractable Value)', 'Merkle Tree', 'Miner', 'Mining', 'Mining Farm', 'Mining Pool', 'Mining Rig', 'Minting', 'MLM (Multi-Level Marketing)', 'Mnemonic Phrase', 'Multi-Party Computation (MPC)', 'Multi-Signature (Multi-sig)', 'NFT (Non-Fungible Token)', 'Node', 'Non-Custodial', 'Nonce', 'Notarization', 'Oracle', 'OTC (Over-the-Counter)', 'Open Source', 'P2E (Play-to-Earn)', 'P2P (Peer-to-Peer)', 'Peg', 'Permissionless', 'Permissioned', 'Phishing', 'POAP (Proof of Attendance Protocol)', 'Ponzi Scheme', 'POS (Proof of Stake)', 'POW (Proof of Work)', 'Pre-Sale', 'Private Key', 'Private Sale', 'Proof of Reserve', 'Proof of Authority', 'Proof of Burn', 'Proof of Developer', 'Proof of Immutability', 'Proof of Replication', 'Proof of Spacetime', 'Proof of Time', 'Proof of Validation', 'Public Key', 'Public Sale', 'Pyramid Scheme', 'Quantum Resistance', 'Quorum', 'Redundancy', 'ReFi (Refinancing)', 'Relay Chain', 'Request For Quote (RFQ)', 'Roadmap', 'ROI (Return on Investment)', 'Rug Pull', 'Scaling Problem', 'Scam', 'Scamcoin', 'Scammer', 'SDK (Software Development Kit)', 'Secondary Market', 'Secure Proof of Stake', 'Security Token', 'Segregated Witness (SegWit)', 'SHA256', 'Shamir’s Secret Sharing', 'Sharding', 'Shitcoin', 'Short Squeeze', 'Sidechain', 'Slashing', 'Slippage', 'Smart Contract', 'Spot and Future', 'Soulbound NFT', 'Stablecoin', 'Store of Value', 'Supply Chain', 'Swarm', 'Sybil Attack', 'SPL Token Standard', 'Stablecoin', 'Staking', 'Straight Through Processing (STP)', 'Supply', 'Symmetric Encryption', 'Taproot', 'Tendermint', 'Testnet', 'TGE Date (Token Generation Event Date)', 'Threshold Signature Scheme', 'Timestamp', 'Token', 'Token Deployer', 'Token Issuance', 'Token Lockup', 'Token Migration', 'Tokenization', 'Tokenomics', 'TradFi', 'TRC-20 Token Standard', 'TRC-721 Token Standard', 'Trustless', 'TVL (Total Value Locked)', 'UTXO (Unspent Transaction Output)', 'Validator', 'Vesting', 'Virtual Asset Service Providers (VASPS)', 'Whale', 'Wallet', 'White Hat', 'White Paper', 'Wrapped Token', 'Yellow Paper', 'Zero-Knowledge Proof (ZK)', 'Zero-Day Vulnerability', 'zk Rollup (Zero-Knowledge Rollup)', 'zk SNARKs (Zero-Knowledge Succinct Non-Interactive Argument of Knowledge)']\n"
     ]
    }
   ],
   "execution_count": 1
  },
  {
   "metadata": {
    "ExecuteTime": {
     "end_time": "2024-12-19T02:54:17.728269Z",
     "start_time": "2024-12-19T02:54:17.229808Z"
    }
   },
   "cell_type": "code",
   "source": [
    "# Create a DataFrame and save to Excel\n",
    "import pandas as pd\n",
    "\n",
    "df = pd.DataFrame(words, columns=['Glossary Terms'])\n",
    "# 保存到Excel文件中\n",
    "excel_path = r'C:\\Users\\PC\\Desktop\\fby\\PythonProject\\llamaf\\人工整理数据集\\Decripto.xlsx'\n",
    "df.to_excel(excel_path, index=False)\n",
    "\n",
    "print(f'Data saved to {excel_path}')"
   ],
   "id": "191ef5be55670b3e",
   "outputs": [
    {
     "name": "stdout",
     "output_type": "stream",
     "text": [
      "Data saved to C:\\Users\\PC\\Desktop\\fby\\PythonProject\\llamaf\\人工整理数据集\\Decripto.xlsx\n"
     ]
    }
   ],
   "execution_count": 2
  },
  {
   "metadata": {},
   "cell_type": "code",
   "outputs": [],
   "execution_count": null,
   "source": "",
   "id": "d235cf06262ff365"
  },
  {
   "metadata": {},
   "cell_type": "code",
   "outputs": [],
   "execution_count": null,
   "source": "",
   "id": "1deb4bd459bcf98d"
  },
  {
   "metadata": {},
   "cell_type": "code",
   "outputs": [],
   "execution_count": null,
   "source": "",
   "id": "2479d64c8f5bde8e"
  },
  {
   "metadata": {},
   "cell_type": "code",
   "outputs": [],
   "execution_count": null,
   "source": "",
   "id": "31003f2e32f7290f"
  },
  {
   "cell_type": "code",
   "execution_count": 2,
   "id": "ac286eb4-4c5d-4cd4-8472-81fa971974dc",
   "metadata": {},
   "outputs": [
    {
     "ename": "PermissionError",
     "evalue": "[Errno 13] Permission denied: 'C:/Users/Zhou/Desktop/essay/data/20240202/terms.xlsx'",
     "output_type": "error",
     "traceback": [
      "\u001B[1;31m---------------------------------------------------------------------------\u001B[0m",
      "\u001B[1;31mPermissionError\u001B[0m                           Traceback (most recent call last)",
      "Cell \u001B[1;32mIn[2], line 29\u001B[0m\n\u001B[0;32m     27\u001B[0m \u001B[38;5;66;03m# 保存到Excel文件中\u001B[39;00m\n\u001B[0;32m     28\u001B[0m excel_path \u001B[38;5;241m=\u001B[39m \u001B[38;5;124m'\u001B[39m\u001B[38;5;124mC:/Users/Zhou/Desktop/essay/data/20240202/terms.xlsx\u001B[39m\u001B[38;5;124m'\u001B[39m\n\u001B[1;32m---> 29\u001B[0m df\u001B[38;5;241m.\u001B[39mto_excel(excel_path, index\u001B[38;5;241m=\u001B[39m\u001B[38;5;28;01mFalse\u001B[39;00m)\n\u001B[0;32m     31\u001B[0m \u001B[38;5;28mprint\u001B[39m(\u001B[38;5;124mf\u001B[39m\u001B[38;5;124m'\u001B[39m\u001B[38;5;124mData saved to \u001B[39m\u001B[38;5;132;01m{\u001B[39;00mexcel_path\u001B[38;5;132;01m}\u001B[39;00m\u001B[38;5;124m'\u001B[39m)\n",
      "File \u001B[1;32m~\\anaconda3\\Lib\\site-packages\\pandas\\core\\generic.py:2345\u001B[0m, in \u001B[0;36mNDFrame.to_excel\u001B[1;34m(self, excel_writer, sheet_name, na_rep, float_format, columns, header, index, index_label, startrow, startcol, engine, merge_cells, inf_rep, freeze_panes, storage_options, engine_kwargs)\u001B[0m\n\u001B[0;32m   2332\u001B[0m \u001B[38;5;28;01mfrom\u001B[39;00m \u001B[38;5;21;01mpandas\u001B[39;00m\u001B[38;5;21;01m.\u001B[39;00m\u001B[38;5;21;01mio\u001B[39;00m\u001B[38;5;21;01m.\u001B[39;00m\u001B[38;5;21;01mformats\u001B[39;00m\u001B[38;5;21;01m.\u001B[39;00m\u001B[38;5;21;01mexcel\u001B[39;00m \u001B[38;5;28;01mimport\u001B[39;00m ExcelFormatter\n\u001B[0;32m   2334\u001B[0m formatter \u001B[38;5;241m=\u001B[39m ExcelFormatter(\n\u001B[0;32m   2335\u001B[0m     df,\n\u001B[0;32m   2336\u001B[0m     na_rep\u001B[38;5;241m=\u001B[39mna_rep,\n\u001B[1;32m   (...)\u001B[0m\n\u001B[0;32m   2343\u001B[0m     inf_rep\u001B[38;5;241m=\u001B[39minf_rep,\n\u001B[0;32m   2344\u001B[0m )\n\u001B[1;32m-> 2345\u001B[0m formatter\u001B[38;5;241m.\u001B[39mwrite(\n\u001B[0;32m   2346\u001B[0m     excel_writer,\n\u001B[0;32m   2347\u001B[0m     sheet_name\u001B[38;5;241m=\u001B[39msheet_name,\n\u001B[0;32m   2348\u001B[0m     startrow\u001B[38;5;241m=\u001B[39mstartrow,\n\u001B[0;32m   2349\u001B[0m     startcol\u001B[38;5;241m=\u001B[39mstartcol,\n\u001B[0;32m   2350\u001B[0m     freeze_panes\u001B[38;5;241m=\u001B[39mfreeze_panes,\n\u001B[0;32m   2351\u001B[0m     engine\u001B[38;5;241m=\u001B[39mengine,\n\u001B[0;32m   2352\u001B[0m     storage_options\u001B[38;5;241m=\u001B[39mstorage_options,\n\u001B[0;32m   2353\u001B[0m     engine_kwargs\u001B[38;5;241m=\u001B[39mengine_kwargs,\n\u001B[0;32m   2354\u001B[0m )\n",
      "File \u001B[1;32m~\\anaconda3\\Lib\\site-packages\\pandas\\io\\formats\\excel.py:946\u001B[0m, in \u001B[0;36mExcelFormatter.write\u001B[1;34m(self, writer, sheet_name, startrow, startcol, freeze_panes, engine, storage_options, engine_kwargs)\u001B[0m\n\u001B[0;32m    942\u001B[0m     need_save \u001B[38;5;241m=\u001B[39m \u001B[38;5;28;01mFalse\u001B[39;00m\n\u001B[0;32m    943\u001B[0m \u001B[38;5;28;01melse\u001B[39;00m:\n\u001B[0;32m    944\u001B[0m     \u001B[38;5;66;03m# error: Cannot instantiate abstract class 'ExcelWriter' with abstract\u001B[39;00m\n\u001B[0;32m    945\u001B[0m     \u001B[38;5;66;03m# attributes 'engine', 'save', 'supported_extensions' and 'write_cells'\u001B[39;00m\n\u001B[1;32m--> 946\u001B[0m     writer \u001B[38;5;241m=\u001B[39m ExcelWriter(  \u001B[38;5;66;03m# type: ignore[abstract]\u001B[39;00m\n\u001B[0;32m    947\u001B[0m         writer,\n\u001B[0;32m    948\u001B[0m         engine\u001B[38;5;241m=\u001B[39mengine,\n\u001B[0;32m    949\u001B[0m         storage_options\u001B[38;5;241m=\u001B[39mstorage_options,\n\u001B[0;32m    950\u001B[0m         engine_kwargs\u001B[38;5;241m=\u001B[39mengine_kwargs,\n\u001B[0;32m    951\u001B[0m     )\n\u001B[0;32m    952\u001B[0m     need_save \u001B[38;5;241m=\u001B[39m \u001B[38;5;28;01mTrue\u001B[39;00m\n\u001B[0;32m    954\u001B[0m \u001B[38;5;28;01mtry\u001B[39;00m:\n",
      "File \u001B[1;32m~\\anaconda3\\Lib\\site-packages\\pandas\\io\\excel\\_openpyxl.py:61\u001B[0m, in \u001B[0;36mOpenpyxlWriter.__init__\u001B[1;34m(self, path, engine, date_format, datetime_format, mode, storage_options, if_sheet_exists, engine_kwargs, **kwargs)\u001B[0m\n\u001B[0;32m     57\u001B[0m \u001B[38;5;28;01mfrom\u001B[39;00m \u001B[38;5;21;01mopenpyxl\u001B[39;00m\u001B[38;5;21;01m.\u001B[39;00m\u001B[38;5;21;01mworkbook\u001B[39;00m \u001B[38;5;28;01mimport\u001B[39;00m Workbook\n\u001B[0;32m     59\u001B[0m engine_kwargs \u001B[38;5;241m=\u001B[39m combine_kwargs(engine_kwargs, kwargs)\n\u001B[1;32m---> 61\u001B[0m \u001B[38;5;28msuper\u001B[39m()\u001B[38;5;241m.\u001B[39m\u001B[38;5;21m__init__\u001B[39m(\n\u001B[0;32m     62\u001B[0m     path,\n\u001B[0;32m     63\u001B[0m     mode\u001B[38;5;241m=\u001B[39mmode,\n\u001B[0;32m     64\u001B[0m     storage_options\u001B[38;5;241m=\u001B[39mstorage_options,\n\u001B[0;32m     65\u001B[0m     if_sheet_exists\u001B[38;5;241m=\u001B[39mif_sheet_exists,\n\u001B[0;32m     66\u001B[0m     engine_kwargs\u001B[38;5;241m=\u001B[39mengine_kwargs,\n\u001B[0;32m     67\u001B[0m )\n\u001B[0;32m     69\u001B[0m \u001B[38;5;66;03m# ExcelWriter replaced \"a\" by \"r+\" to allow us to first read the excel file from\u001B[39;00m\n\u001B[0;32m     70\u001B[0m \u001B[38;5;66;03m# the file and later write to it\u001B[39;00m\n\u001B[0;32m     71\u001B[0m \u001B[38;5;28;01mif\u001B[39;00m \u001B[38;5;124m\"\u001B[39m\u001B[38;5;124mr+\u001B[39m\u001B[38;5;124m\"\u001B[39m \u001B[38;5;129;01min\u001B[39;00m \u001B[38;5;28mself\u001B[39m\u001B[38;5;241m.\u001B[39m_mode:  \u001B[38;5;66;03m# Load from existing workbook\u001B[39;00m\n",
      "File \u001B[1;32m~\\anaconda3\\Lib\\site-packages\\pandas\\io\\excel\\_base.py:1263\u001B[0m, in \u001B[0;36mExcelWriter.__init__\u001B[1;34m(self, path, engine, date_format, datetime_format, mode, storage_options, if_sheet_exists, engine_kwargs)\u001B[0m\n\u001B[0;32m   1259\u001B[0m \u001B[38;5;28mself\u001B[39m\u001B[38;5;241m.\u001B[39m_handles \u001B[38;5;241m=\u001B[39m IOHandles(\n\u001B[0;32m   1260\u001B[0m     cast(IO[\u001B[38;5;28mbytes\u001B[39m], path), compression\u001B[38;5;241m=\u001B[39m{\u001B[38;5;124m\"\u001B[39m\u001B[38;5;124mcompression\u001B[39m\u001B[38;5;124m\"\u001B[39m: \u001B[38;5;28;01mNone\u001B[39;00m}\n\u001B[0;32m   1261\u001B[0m )\n\u001B[0;32m   1262\u001B[0m \u001B[38;5;28;01mif\u001B[39;00m \u001B[38;5;129;01mnot\u001B[39;00m \u001B[38;5;28misinstance\u001B[39m(path, ExcelWriter):\n\u001B[1;32m-> 1263\u001B[0m     \u001B[38;5;28mself\u001B[39m\u001B[38;5;241m.\u001B[39m_handles \u001B[38;5;241m=\u001B[39m get_handle(\n\u001B[0;32m   1264\u001B[0m         path, mode, storage_options\u001B[38;5;241m=\u001B[39mstorage_options, is_text\u001B[38;5;241m=\u001B[39m\u001B[38;5;28;01mFalse\u001B[39;00m\n\u001B[0;32m   1265\u001B[0m     )\n\u001B[0;32m   1266\u001B[0m \u001B[38;5;28mself\u001B[39m\u001B[38;5;241m.\u001B[39m_cur_sheet \u001B[38;5;241m=\u001B[39m \u001B[38;5;28;01mNone\u001B[39;00m\n\u001B[0;32m   1268\u001B[0m \u001B[38;5;28;01mif\u001B[39;00m date_format \u001B[38;5;129;01mis\u001B[39;00m \u001B[38;5;28;01mNone\u001B[39;00m:\n",
      "File \u001B[1;32m~\\anaconda3\\Lib\\site-packages\\pandas\\io\\common.py:872\u001B[0m, in \u001B[0;36mget_handle\u001B[1;34m(path_or_buf, mode, encoding, compression, memory_map, is_text, errors, storage_options)\u001B[0m\n\u001B[0;32m    863\u001B[0m         handle \u001B[38;5;241m=\u001B[39m \u001B[38;5;28mopen\u001B[39m(\n\u001B[0;32m    864\u001B[0m             handle,\n\u001B[0;32m    865\u001B[0m             ioargs\u001B[38;5;241m.\u001B[39mmode,\n\u001B[1;32m   (...)\u001B[0m\n\u001B[0;32m    868\u001B[0m             newline\u001B[38;5;241m=\u001B[39m\u001B[38;5;124m\"\u001B[39m\u001B[38;5;124m\"\u001B[39m,\n\u001B[0;32m    869\u001B[0m         )\n\u001B[0;32m    870\u001B[0m     \u001B[38;5;28;01melse\u001B[39;00m:\n\u001B[0;32m    871\u001B[0m         \u001B[38;5;66;03m# Binary mode\u001B[39;00m\n\u001B[1;32m--> 872\u001B[0m         handle \u001B[38;5;241m=\u001B[39m \u001B[38;5;28mopen\u001B[39m(handle, ioargs\u001B[38;5;241m.\u001B[39mmode)\n\u001B[0;32m    873\u001B[0m     handles\u001B[38;5;241m.\u001B[39mappend(handle)\n\u001B[0;32m    875\u001B[0m \u001B[38;5;66;03m# Convert BytesIO or file objects passed with an encoding\u001B[39;00m\n",
      "\u001B[1;31mPermissionError\u001B[0m: [Errno 13] Permission denied: 'C:/Users/Zhou/Desktop/essay/data/20240202/terms.xlsx'"
     ]
    }
   ],
   "source": [
    "import requests\n",
    "from bs4 import BeautifulSoup\n",
    "import pandas as pd\n",
    "\n",
    "# 目标GitHub页面的URL\n",
    "url = 'https://github.com/Decripto-org/Blockchain-Glossary'\n",
    "\n",
    "# 发送GET请求获取页面内容\n",
    "response = requests.get(url)\n",
    "\n",
    "# 解析HTML内容\n",
    "soup = BeautifulSoup(response.text, 'html.parser')\n",
    "\n",
    "# 查找所有的<h3>标签，它们包含特定的文本和结构\n",
    "terms = soup.find_all('h3', {'dir': 'auto'})\n",
    "\n",
    "# 提取每个<h3>标签内部的文本\n",
    "data = []\n",
    "for term in terms:\n",
    "    if term.a and term.a.get('id', '').startswith('user-content-'):\n",
    "        term_text = term.get_text(strip=True)\n",
    "        data.append(term_text)\n",
    "\n",
    "# 创建一个DataFrame来存储提取的数据\n",
    "df = pd.DataFrame(data, columns=['Term'])\n",
    "\n",
    "# 保存到Excel文件中\n",
    "excel_path = 'C:/Users/Zhou/Desktop/essay/data/20240202/terms.xlsx'\n",
    "df.to_excel(excel_path, index=False)\n",
    "\n",
    "print(f'Data saved to {excel_path}')\n",
    "\n"
   ]
  },
  {
   "cell_type": "code",
   "execution_count": 3,
   "id": "51d15c4c-bd3c-4708-9df6-43131efc9c14",
   "metadata": {},
   "outputs": [
    {
     "name": "stdout",
     "output_type": "stream",
     "text": [
      "Data saved to C:/Users/Zhou/Desktop/essay/data/20240202/terms.xlsx\n"
     ]
    }
   ],
   "source": [
    "# 保存到Excel文件中\n",
    "excel_path = 'C:/Users/Zhou/Desktop/essay/data/20240202/terms.xlsx'\n",
    "df.to_excel(excel_path, index=False)\n",
    "\n",
    "print(f'Data saved to {excel_path}')"
   ]
  },
  {
   "cell_type": "code",
   "execution_count": null,
   "id": "548d6758-1d50-4b5b-bff8-46d0640964c3",
   "metadata": {},
   "outputs": [],
   "source": []
  }
 ],
 "metadata": {
  "kernelspec": {
   "display_name": "Python 3 (ipykernel)",
   "language": "python",
   "name": "python3"
  },
  "language_info": {
   "codemirror_mode": {
    "name": "ipython",
    "version": 3
   },
   "file_extension": ".py",
   "mimetype": "text/x-python",
   "name": "python",
   "nbconvert_exporter": "python",
   "pygments_lexer": "ipython3",
   "version": "3.11.5"
  }
 },
 "nbformat": 4,
 "nbformat_minor": 5
}

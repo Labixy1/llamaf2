{
 "cells": [
  {
   "metadata": {},
   "cell_type": "markdown",
   "source": [
    "# 合并词汇\n",
    "- 爬取时间 2024.12.19\n",
    "- 小写\n",
    "- 合并\n",
    "- 去重"
   ],
   "id": "af37fe0d6d977c61"
  },
  {
   "cell_type": "code",
   "id": "initial_id",
   "metadata": {
    "collapsed": true,
    "ExecuteTime": {
     "end_time": "2024-12-19T03:05:14.028102Z",
     "start_time": "2024-12-19T03:05:13.933266Z"
    }
   },
   "source": [
    "import pandas as pd\n",
    "\n",
    "# 读取三个文件\n",
    "coinmarketca_df = pd.read_excel('coinmarketca.xlsx')\n",
    "decripto_df = pd.read_excel('Decripto.xlsx')\n",
    "ethereum_df = pd.read_excel('ethereum.xlsx')\n",
    "\n",
    "# 计数每个文件的词汇数量（去除标题行）\n",
    "coinmarketca_count = len(coinmarketca_df) - 1  # 去掉标题行\n",
    "decripto_count = len(decripto_df) - 1\n",
    "ethereum_count = len(ethereum_df) - 1\n",
    "\n",
    "# 打印每个文件的词汇数量\n",
    "print(f\"Coinmarketca 文件词汇数量: {coinmarketca_count}\")\n",
    "print(f\"Decripto 文件词汇数量: {decripto_count}\")\n",
    "print(f\"Ethereum 文件词汇数量: {ethereum_count}\")\n",
    "\n",
    "# 合并所有词汇\n",
    "all_terms = pd.concat([coinmarketca_df, decripto_df, ethereum_df], ignore_index=True)\n",
    "\n",
    "# 将所有词汇转成小写\n",
    "all_terms['Glossary Terms'] = all_terms['Glossary Terms'].str.lower()\n",
    "\n",
    "# 去重\n",
    "all_terms = all_terms.drop_duplicates()\n",
    "\n",
    "# 将合并后的词汇保存为一个新文件\n",
    "all_terms.to_excel('combined_glossary.xlsx', index=False)\n",
    "\n",
    "# 打印合并后词汇的总数\n",
    "print(f\"合并后的词汇数量（小写去重后）: {len(all_terms)}\")\n"
   ],
   "outputs": [
    {
     "name": "stdout",
     "output_type": "stream",
     "text": [
      "Coinmarketca 文件词汇数量: 1259\n",
      "Decripto 文件词汇数量: 254\n",
      "Ethereum 文件词汇数量: 194\n",
      "合并后的词汇数量（小写去重后）: 1511\n"
     ]
    }
   ],
   "execution_count": 4
  },
  {
   "metadata": {},
   "cell_type": "markdown",
   "source": [
    "# 人工整理出术语集和同义词集\n",
    "1. 对包含括号的术语进行检查。如果括号内是同义词或缩写，则整合到同义词表中，如“accepting risk (acceptance)”或“banking secrecy act (bsa)”；如果括号内为补充说明，则删除括号及其内容，如“accretion (of a discount)”；如果括号为单位，则删除该词汇，如“MicroBitcoin (uBTC)”。\n",
    "2. 对包含“/”的术语进行检查。如果是多个词义的词组，则分条整合到同义词表中，并在分条在术语表中列出，如“accumulation/distribution indicator”；如果是一个词义的多种表达方式，则整理到同义词表中。如果表示汇率，则删除该词汇，如“eth/btc”。\n",
    "3. 对包含方括号的术语进行检查。经检查，方括号内的信息为XXXXX，直接删除内容，如“fud [2021]”。\n",
    "4. 删除无效字符，如“đ”。"
   ],
   "id": "73b8bb095eb58406"
  },
  {
   "metadata": {},
   "cell_type": "markdown",
   "source": "# 利用同义词集处理术语集",
   "id": "a194c5b2ac1e2cbc"
  },
  {
   "metadata": {},
   "cell_type": "markdown",
   "source": "# ",
   "id": "840e703cd0ed3fea"
  },
  {
   "metadata": {
    "ExecuteTime": {
     "end_time": "2024-12-19T07:40:53.226281Z",
     "start_time": "2024-12-19T07:40:53.167578Z"
    }
   },
   "cell_type": "code",
   "source": [
    "import pandas as pd\n",
    "# 读取人工整理术语表和同义词表（无标题行）\n",
    "terms_df = pd.read_excel('人工整理术语表.xlsx', header=None)\n",
    "synonyms_df = pd.read_excel('人工整理同义词表.xlsx', header=None)\n",
    "\n",
    "# 打印读取的数据，检查是否正确加载\n",
    "# print(terms_df.head())\n",
    "# print(synonyms_df.head())\n"
   ],
   "id": "677613680a1713cd",
   "outputs": [],
   "execution_count": 8
  },
  {
   "metadata": {
    "ExecuteTime": {
     "end_time": "2024-12-19T07:43:03.144195Z",
     "start_time": "2024-12-19T07:43:03.130645Z"
    }
   },
   "cell_type": "code",
   "source": [
    "# 创建一个词汇到主词（第一列）的映射字典\n",
    "synonym_map = {}\n",
    "\n",
    "# 遍历同义词表的每一行\n",
    "for _, row in synonyms_df.iterrows():\n",
    "    main_term = row[0]  # 同义词表的第一列（主词）\n",
    "    for synonym in row[1:]:  # 后续列为同义词\n",
    "        if pd.notna(synonym):  # 忽略NaN值\n",
    "            synonym_map[synonym.strip().lower()] = main_term.strip().lower()\n",
    "\n",
    "# 打印部分映射关系，检查是否正确\n",
    "print(dict(list(synonym_map.items())[5:10]))\n"
   ],
   "id": "218650f96c9963f4",
   "outputs": [
    {
     "name": "stdout",
     "output_type": "stream",
     "text": [
      "{'ath': 'all-time-high', 'all-time high': 'all-time-high', 'atl': 'all-time-low', 'all-time low': 'all-time-low', 'ask me anything': 'ama'}\n"
     ]
    }
   ],
   "execution_count": 11
  },
  {
   "metadata": {
    "ExecuteTime": {
     "end_time": "2024-12-19T07:43:59.556887Z",
     "start_time": "2024-12-19T07:43:59.551461Z"
    }
   },
   "cell_type": "code",
   "source": [
    "# 处理人工整理术语表中的词汇\n",
    "terms_processed = []\n",
    "\n",
    "for term in terms_df.iloc[:, 0]:  # 只处理第一列的词汇\n",
    "    term = term.strip().lower()  # 转换为小写\n",
    "    # 如果词汇在同义词映射中，替换为主词\n",
    "    if term in synonym_map:\n",
    "        terms_processed.append(synonym_map[term])\n",
    "    else:\n",
    "        terms_processed.append(term)\n",
    "\n",
    "# 转换为pandas的Series并去重\n",
    "terms_processed_unique = pd.Series(terms_processed).unique()\n",
    "\n",
    "# 打印处理前和处理后的计数\n",
    "print(f\"处理前的词汇数：{len(terms_df)}\")\n",
    "print(f\"处理后的去重词汇数：{len(terms_processed_unique)}\")\n"
   ],
   "id": "923f744cc4420605",
   "outputs": [
    {
     "name": "stdout",
     "output_type": "stream",
     "text": [
      "处理前的词汇数：1513\n",
      "处理后的去重词汇数：1435\n"
     ]
    }
   ],
   "execution_count": 12
  },
  {
   "metadata": {
    "ExecuteTime": {
     "end_time": "2024-12-19T07:44:09.091866Z",
     "start_time": "2024-12-19T07:44:09.089521Z"
    }
   },
   "cell_type": "code",
   "source": [
    "# 打印同义词表的行数\n",
    "print(f\"同义词表的行数：{len(synonyms_df)}\")"
   ],
   "id": "61e91d632a77953d",
   "outputs": [
    {
     "name": "stdout",
     "output_type": "stream",
     "text": [
      "同义词表的行数：253\n"
     ]
    }
   ],
   "execution_count": 13
  },
  {
   "metadata": {
    "ExecuteTime": {
     "end_time": "2024-12-19T07:44:48.795836Z",
     "start_time": "2024-12-19T07:44:48.766526Z"
    }
   },
   "cell_type": "code",
   "source": [
    "# 将处理后的词汇输出到一个新的Excel文件或直接打印\n",
    "processed_df = pd.DataFrame(terms_processed_unique, columns=['Processed Terms'])\n",
    "processed_df.to_excel('人工整理术语表_同义词处理后.xlsx', index=False)\n",
    "\n",
    "# 打印处理后的前几行，确保处理正确\n",
    "print(processed_df.head())"
   ],
   "id": "6575cf6897d4ddf6",
   "outputs": [
    {
     "name": "stdout",
     "output_type": "stream",
     "text": [
      "                 Processed Terms\n",
      "0                 accepting risk\n",
      "1                   advance line\n",
      "2                            aes\n",
      "3  algorithmic market operations\n",
      "4                   algo-trading\n"
     ]
    }
   ],
   "execution_count": 14
  },
  {
   "metadata": {},
   "cell_type": "code",
   "outputs": [],
   "execution_count": null,
   "source": "",
   "id": "4f2fa699c66e933b"
  }
 ],
 "metadata": {
  "kernelspec": {
   "display_name": "Python 3",
   "language": "python",
   "name": "python3"
  },
  "language_info": {
   "codemirror_mode": {
    "name": "ipython",
    "version": 2
   },
   "file_extension": ".py",
   "mimetype": "text/x-python",
   "name": "python",
   "nbconvert_exporter": "python",
   "pygments_lexer": "ipython2",
   "version": "2.7.6"
  }
 },
 "nbformat": 4,
 "nbformat_minor": 5
}
